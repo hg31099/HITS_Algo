{
 "cells": [
  {
   "cell_type": "code",
   "execution_count": 1,
   "metadata": {},
   "outputs": [],
   "source": [
    "import numpy as np \n",
    "import os"
   ]
  },
  {
   "cell_type": "code",
   "execution_count": null,
   "metadata": {},
   "outputs": [],
   "source": [
    "def adding_new_edge_to_graph(graph, elem):\n",
    "    graph.append([int(elem)])\n",
    "    print(graph)"
   ]
  },
  {
   "cell_type": "code",
   "execution_count": null,
   "metadata": {},
   "outputs": [],
   "source": [
    "graph=[]\n",
    "dirname = os.getcwd()\n",
    "filename = os.path.join(dirname,'hits_input.txt')\n",
    "with open(filename,'r') as f:\n",
    "    line = f.readline()\n",
    "    no_of_pages=int(line)\n",
    "    line = f.readline()\n",
    "    while no_of_pages:\n",
    "        elem = line.split()\n",
    "        adding_new_edge_to_graph(graph, elem)\n",
    "        line = f.readline()\n",
    "        no_of_pages-=1"
   ]
  },
  {
   "cell_type": "code",
   "execution_count": 11,
   "metadata": {},
   "outputs": [
    {
     "name": "stdout",
     "output_type": "stream",
     "text": [
      "[1. 1. 1. 1. 1. 1.]\n",
      "[[0, 1, 1, 1, 0, 1], [1, 0, 1, 0, 0, 1], [0, 1, 0, 1, 1, 0], [0, 1, 1, 0, 0, 0], [1, 1, 1, 1, 1, 1], [1, 0, 1, 0, 1, 0]]\n",
      "\n",
      "\n",
      "Iteraton Number: 1.................................................\n",
      "[0.14285714 0.19047619 0.23809524 0.14285714 0.14285714 0.14285714]\n",
      "[1. 1. 1. 1. 1. 1.]\n",
      "[0.19480519 0.14285714 0.12987013 0.11688312 0.27272727 0.14285714]\n",
      "0.7263794406651549\n",
      "\n",
      "\n",
      "Iteraton Number: 2.................................................\n",
      "[0.14333333 0.18333333 0.22333333 0.15333333 0.14       0.15666667]\n",
      "[0.19480519 0.14285714 0.12987013 0.11688312 0.27272727 0.14285714]\n",
      "[0.19742883 0.14416896 0.13131313 0.11202938 0.27548209 0.13957759]\n",
      "0.00010506126278489823\n",
      "\n",
      "\n",
      "Iteraton Number: 3.................................................\n",
      "[0.14295775 0.18309859 0.22206573 0.15446009 0.13967136 0.15774648]\n",
      "[0.19742883 0.14416896 0.13131313 0.11202938 0.27548209 0.13957759]\n",
      "[0.19777375 0.14412374 0.13156873 0.11170075 0.27569247 0.13914056]\n",
      "8.126959732099812e-07\n"
     ]
    }
   ],
   "source": [
    "threshold=0.0001\n",
    "k=0\n",
    "no_of_pages=6                                       \n",
    "graph = [[0, 1, 1, 1, 0, 1],[1, 0, 1, 0, 0, 1],[0, 1, 0, 1, 1, 0],[0, 1, 1, 0, 0, 0],[1, 1, 1, 1, 1, 1],[1, 0, 1, 0, 1, 0]]\n",
    "hubs=np.ones(no_of_pages,dtype = float)\n",
    "prevhubs=np.ones(no_of_pages,dtype = float)\n",
    "authorities=np.zeros(no_of_pages,dtype = float)\n",
    "print(hubs)\n",
    "print(graph)\n",
    "error=no_of_pages\n",
    "MSE1=no_of_pages\n",
    "MSE2=no_of_pages\n",
    "while MSE1+MSE2>threshold:\n",
    "    print(\"\\n\\nIteraton Number: \" + str(k+1) + \".................................................\")\n",
    "    sum_authorities=0\n",
    "    prev_authority=authorities.copy()\n",
    "    for i in range(0,no_of_pages):\n",
    "        authorities[i]=0\n",
    "        for j in range(0,no_of_pages):\n",
    "            if(graph[j][i]==1):\n",
    "                authorities[i]=authorities[i]+hubs[j]\n",
    "        sum_authorities=sum_authorities+authorities[i]\n",
    "    authorities=authorities/sum_authorities\n",
    "    print(authorities)\n",
    "\n",
    "    sum_hubs=0\n",
    "    prevhubs=hubs.copy()\n",
    "    print(prevhubs)\n",
    "    for i in range(0,no_of_pages):\n",
    "        hubs[i]=0\n",
    "        for j in range(0,no_of_pages):\n",
    "            if(graph[i][j]==1):\n",
    "                hubs[i]=hubs[i]+authorities[j]\n",
    "        sum_hubs=sum_hubs+hubs[i]\n",
    "\n",
    "    hubs=hubs/sum_hubs\n",
    "    print(hubs)\n",
    "#     error=0.0\n",
    "#     for i in range(0,no_of_pages):\n",
    "#         error=error+abs(prevhubs[i]-hubs[i])\n",
    "    MSE1 = np.square(np.subtract(prevhubs,hubs)).mean()\n",
    "    MSE2 = np.square(np.subtract(prev_authority,authorities)).mean()\n",
    "    print(MSE1+MSE2)\n",
    "    k=k+1"
   ]
  },
  {
   "cell_type": "code",
   "execution_count": null,
   "metadata": {},
   "outputs": [],
   "source": []
  }
 ],
 "metadata": {
  "kernelspec": {
   "display_name": "Python 3",
   "language": "python",
   "name": "python3"
  },
  "language_info": {
   "codemirror_mode": {
    "name": "ipython",
    "version": 3
   },
   "file_extension": ".py",
   "mimetype": "text/x-python",
   "name": "python",
   "nbconvert_exporter": "python",
   "pygments_lexer": "ipython3",
   "version": "3.7.4"
  }
 },
 "nbformat": 4,
 "nbformat_minor": 2
}
